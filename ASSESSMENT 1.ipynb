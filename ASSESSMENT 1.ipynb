{
 "cells": [
  {
   "cell_type": "code",
   "execution_count": 1,
   "id": "ce07fcbf",
   "metadata": {},
   "outputs": [],
   "source": [
    "import random\n",
    "\n",
    "def Guess(x):\n",
    "  random_number= random.randint(1,x)\n",
    "  guess=0\n",
    "\n",
    "  while guess != random_number:\n",
    "    guess = int(input(f\"Guess a number between 1 to {x}:- \"))\n",
    "\n",
    "    if guess <= random_number: \n",
    "      print(\"Sorry, guess again 'Too High' \")\n",
    "    \n",
    "    elif guess >= rand_number:\n",
    "      print(\"Sorry, guess again 'Too Low' \")\n",
    "\n",
    "  print(f\"Yay Congratulations you have Guessed right {random_number}\")\n",
    "\n",
    "\n",
    "  Guess(20)"
   ]
  },
  {
   "cell_type": "code",
   "execution_count": 3,
   "id": "49e0da10",
   "metadata": {},
   "outputs": [
    {
     "name": "stdout",
     "output_type": "stream",
     "text": [
      "Brands Available ['Hublot', 'Rolex', 'Micheal Knor', 'Dior']\n",
      "Enter Brand Type:- versace\n",
      "Colours Available ['Blue', 'Brown', 'white']\n",
      "Enter Desired brand colour:- Blue\n",
      "Models Available ['leather', 'chain', 'Rubber']\n",
      "Enter watch model you want:- chain\n",
      "versace,Blue,chain are currently available, kindly proceed to place order\n"
     ]
    }
   ],
   "source": [
    "def Wrist_watches():\n",
    "    \n",
    "    Brands = [\"Hublot\", \"Rolex\", \"Micheal Knor\", \"Dior\", ]\n",
    "    colour= [\"Blue\", \"Brown\", \"white\"]\n",
    "    Model= [\"leather\", \"chain\", \"Rubber\"]\n",
    "    \n",
    "    print(f\"Brands Available {Brands}\")\n",
    "    Brand_type =  input(\"Enter Brand Type:- \")\n",
    "    print(f\"Colours Available {colour}\")\n",
    "    colour_type = input (\"Enter Desired brand colour:- \")\n",
    "    print(f\"Models Available {Model}\")\n",
    "    Model_type = input (\"Enter watch model you want:- \")\n",
    "      \n",
    "    for i in Brands:\n",
    "        if i == Brand_type:\n",
    "            print(\"Brand Specification Available\")\n",
    "            if i!= Brand_type:\n",
    "                print(\"Brand specification not available\")\n",
    "            \n",
    "            for i in colour:\n",
    "                if i== colour_type:\n",
    "                    print(\"Colour Specification Available\")\n",
    "                    \n",
    "                    for i in Model:\n",
    "                        if i== Model_type:\n",
    "                            print(\"Model Specification Available\")\n",
    "\n",
    "    print(f\"{Brand_type},{colour_type},{Model_type} are currently available, kindly proceed to place order\")\n",
    "                        \n",
    "    \n",
    "Wrist_watches()"
   ]
  },
  {
   "cell_type": "code",
   "execution_count": null,
   "id": "81f1020a",
   "metadata": {},
   "outputs": [],
   "source": []
  },
  {
   "cell_type": "code",
   "execution_count": null,
   "id": "6b6a7487",
   "metadata": {},
   "outputs": [],
   "source": []
  },
  {
   "cell_type": "code",
   "execution_count": null,
   "id": "90124c69",
   "metadata": {},
   "outputs": [],
   "source": [
    "def Wrist_watches():\n",
    "\n",
    "    Brand_type =  input(\"Enter Brand Type:- \")\n",
    "    colour = input (\"Enter Desired brand colour:- \")\n",
    "    Model = input (\"Enter watch model you want:- \")\n",
    "    \n",
    "    Watches={\n",
    "        \"Brands\": [\"Hublot\", \"Rolex\", \"Micheal Knor\", \"Dior\", \"\"],\n",
    "        \"colour\": [\"Blue\", \"Brown\", \"white\"],\n",
    "       \"Model\":  [\"leather\", \"chain\", \"Rubber\"]\n",
    "    }\n",
    "    ##Brands = [\"Hublot\", \"Rolex\", \"Micheal Knor\", \"Dior\", ],\n",
    "        \n",
    "    for k,v in Watches.Values():\n",
    "        if k == Brand_type:\n",
    "            print(\"Watch Specification Available\")\n",
    "        else:\n",
    "            print (\"Watch Specification currently not Available\")\n",
    "    \n",
    "Wrist_watches()"
   ]
  },
  {
   "cell_type": "code",
   "execution_count": null,
   "id": "58683df9",
   "metadata": {},
   "outputs": [],
   "source": []
  },
  {
   "cell_type": "code",
   "execution_count": null,
   "id": "e862008d",
   "metadata": {},
   "outputs": [],
   "source": []
  },
  {
   "cell_type": "code",
   "execution_count": null,
   "id": "3f296ce2",
   "metadata": {},
   "outputs": [],
   "source": []
  },
  {
   "cell_type": "code",
   "execution_count": null,
   "id": "9a1f825b",
   "metadata": {},
   "outputs": [],
   "source": []
  }
 ],
 "metadata": {
  "kernelspec": {
   "display_name": "Python 3",
   "language": "python",
   "name": "python3"
  },
  "language_info": {
   "codemirror_mode": {
    "name": "ipython",
    "version": 3
   },
   "file_extension": ".py",
   "mimetype": "text/x-python",
   "name": "python",
   "nbconvert_exporter": "python",
   "pygments_lexer": "ipython3",
   "version": "3.8.8"
  }
 },
 "nbformat": 4,
 "nbformat_minor": 5
}
